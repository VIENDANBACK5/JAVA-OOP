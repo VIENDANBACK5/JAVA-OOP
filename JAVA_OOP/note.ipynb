{
 "cells": [
  {
   "cell_type": "code",
   "execution_count": null,
   "metadata": {
    "vscode": {
     "languageId": "java"
    }
   },
   "outputs": [],
   "source": [
    "import java.util.Scanner;\n",
    "public class test{\n",
    "    public static void main(String[] args){\n",
    "        Scanner sc = new Scanner(System.in); \n",
    "        int a;\n",
    "        a = sc.nextInt();\n",
    "        System.out.println(a);\n",
    "        \n",
    "    }\n",
    "}"
   ]
  }
 ],
 "metadata": {
  "language_info": {
   "name": "python"
  }
 },
 "nbformat": 4,
 "nbformat_minor": 2
}
